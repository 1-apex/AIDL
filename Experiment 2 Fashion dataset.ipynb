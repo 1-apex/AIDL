{
 "cells": [
  {
   "cell_type": "code",
   "execution_count": 1,
   "metadata": {
    "id": "KYaN2RgMocE9"
   },
   "outputs": [],
   "source": [
    "import tensorflow as tf\n",
    "import matplotlib.pyplot as plt"
   ]
  },
  {
   "cell_type": "code",
   "execution_count": null,
   "metadata": {
    "colab": {
     "base_uri": "https://localhost:8080/"
    },
    "id": "wBhrVyWBoj5g",
    "outputId": "e9e870c3-07fa-4cd8-91d3-4b6c0f689d49"
   },
   "outputs": [],
   "source": [
    "from tensorflow.keras.datasets import fashion_mnist\n",
    "(x_train,y_train),(x_test,y_test)=fashion_mnist.load_data()"
   ]
  },
  {
   "cell_type": "code",
   "execution_count": 6,
   "metadata": {
    "colab": {
     "base_uri": "https://localhost:8080/"
    },
    "id": "bh4dIgTko2Pm",
    "outputId": "13bf86f4-2f05-4bc8-e160-1be74c4da7e9"
   },
   "outputs": [
    {
     "name": "stdout",
     "output_type": "stream",
     "text": [
      "(60000, 28, 28)\n",
      "(60000,)\n"
     ]
    }
   ],
   "source": [
    "print(x_train.shape)\n",
    "print(y_train.shape)"
   ]
  },
  {
   "cell_type": "code",
   "execution_count": 7,
   "metadata": {
    "colab": {
     "base_uri": "https://localhost:8080/"
    },
    "id": "aQ6qnEsJpg_e",
    "outputId": "3d79d33c-8a85-46c5-9c96-75672933e725"
   },
   "outputs": [
    {
     "name": "stdout",
     "output_type": "stream",
     "text": [
      "(10000, 28, 28)\n",
      "(10000,)\n"
     ]
    }
   ],
   "source": [
    "print(x_test.shape)\n",
    "print(y_test.shape)"
   ]
  },
  {
   "cell_type": "code",
   "execution_count": 8,
   "metadata": {
    "colab": {
     "base_uri": "https://localhost:8080/"
    },
    "id": "Ih6aHLd8pon9",
    "outputId": "d0749b21-0c7e-444c-aafc-28c092acabc3"
   },
   "outputs": [
    {
     "name": "stdout",
     "output_type": "stream",
     "text": [
      "[[  0   0   0   0   0   0   0   0   0   0   0   0   0   0   0   0   0   0\n",
      "    0   0   0   0   0   0   0   0   0   0]\n",
      " [  0   0   0   0   0   0   0   0   0   0   0   0   0   0   0   0   0   0\n",
      "    0   0   0   0   0   0   0   0   0   0]\n",
      " [  0   0   0   0   0   0   0   0   0   0   0   0   0   0   0   0   0   0\n",
      "    0   0   0   0   0   0   0   0   0   0]\n",
      " [  0   0   0   0   0   0   0   0   0   0   0   0   1   0   0  13  73   0\n",
      "    0   1   4   0   0   0   0   1   1   0]\n",
      " [  0   0   0   0   0   0   0   0   0   0   0   0   3   0  36 136 127  62\n",
      "   54   0   0   0   1   3   4   0   0   3]\n",
      " [  0   0   0   0   0   0   0   0   0   0   0   0   6   0 102 204 176 134\n",
      "  144 123  23   0   0   0   0  12  10   0]\n",
      " [  0   0   0   0   0   0   0   0   0   0   0   0   0   0 155 236 207 178\n",
      "  107 156 161 109  64  23  77 130  72  15]\n",
      " [  0   0   0   0   0   0   0   0   0   0   0   1   0  69 207 223 218 216\n",
      "  216 163 127 121 122 146 141  88 172  66]\n",
      " [  0   0   0   0   0   0   0   0   0   1   1   1   0 200 232 232 233 229\n",
      "  223 223 215 213 164 127 123 196 229   0]\n",
      " [  0   0   0   0   0   0   0   0   0   0   0   0   0 183 225 216 223 228\n",
      "  235 227 224 222 224 221 223 245 173   0]\n",
      " [  0   0   0   0   0   0   0   0   0   0   0   0   0 193 228 218 213 198\n",
      "  180 212 210 211 213 223 220 243 202   0]\n",
      " [  0   0   0   0   0   0   0   0   0   1   3   0  12 219 220 212 218 192\n",
      "  169 227 208 218 224 212 226 197 209  52]\n",
      " [  0   0   0   0   0   0   0   0   0   0   6   0  99 244 222 220 218 203\n",
      "  198 221 215 213 222 220 245 119 167  56]\n",
      " [  0   0   0   0   0   0   0   0   0   4   0   0  55 236 228 230 228 240\n",
      "  232 213 218 223 234 217 217 209  92   0]\n",
      " [  0   0   1   4   6   7   2   0   0   0   0   0 237 226 217 223 222 219\n",
      "  222 221 216 223 229 215 218 255  77   0]\n",
      " [  0   3   0   0   0   0   0   0   0  62 145 204 228 207 213 221 218 208\n",
      "  211 218 224 223 219 215 224 244 159   0]\n",
      " [  0   0   0   0  18  44  82 107 189 228 220 222 217 226 200 205 211 230\n",
      "  224 234 176 188 250 248 233 238 215   0]\n",
      " [  0  57 187 208 224 221 224 208 204 214 208 209 200 159 245 193 206 223\n",
      "  255 255 221 234 221 211 220 232 246   0]\n",
      " [  3 202 228 224 221 211 211 214 205 205 205 220 240  80 150 255 229 221\n",
      "  188 154 191 210 204 209 222 228 225   0]\n",
      " [ 98 233 198 210 222 229 229 234 249 220 194 215 217 241  65  73 106 117\n",
      "  168 219 221 215 217 223 223 224 229  29]\n",
      " [ 75 204 212 204 193 205 211 225 216 185 197 206 198 213 240 195 227 245\n",
      "  239 223 218 212 209 222 220 221 230  67]\n",
      " [ 48 203 183 194 213 197 185 190 194 192 202 214 219 221 220 236 225 216\n",
      "  199 206 186 181 177 172 181 205 206 115]\n",
      " [  0 122 219 193 179 171 183 196 204 210 213 207 211 210 200 196 194 191\n",
      "  195 191 198 192 176 156 167 177 210  92]\n",
      " [  0   0  74 189 212 191 175 172 175 181 185 188 189 188 193 198 204 209\n",
      "  210 210 211 188 188 194 192 216 170   0]\n",
      " [  2   0   0   0  66 200 222 237 239 242 246 243 244 221 220 193 191 179\n",
      "  182 182 181 176 166 168  99  58   0   0]\n",
      " [  0   0   0   0   0   0   0  40  61  44  72  41  35   0   0   0   0   0\n",
      "    0   0   0   0   0   0   0   0   0   0]\n",
      " [  0   0   0   0   0   0   0   0   0   0   0   0   0   0   0   0   0   0\n",
      "    0   0   0   0   0   0   0   0   0   0]\n",
      " [  0   0   0   0   0   0   0   0   0   0   0   0   0   0   0   0   0   0\n",
      "    0   0   0   0   0   0   0   0   0   0]]\n"
     ]
    }
   ],
   "source": [
    "print(x_train[0])"
   ]
  },
  {
   "cell_type": "code",
   "execution_count": 10,
   "metadata": {
    "colab": {
     "base_uri": "https://localhost:8080/",
     "height": 448
    },
    "id": "ou5AuiuZpy3d",
    "outputId": "887ad240-4fe9-45cc-ba3f-18f28a5c380a"
   },
   "outputs": [
    {
     "data": {
      "text/plain": [
       "<matplotlib.image.AxesImage at 0x78af7ba0d990>"
      ]
     },
     "execution_count": 10,
     "metadata": {},
     "output_type": "execute_result"
    },
    {
     "data": {
      "image/png": "[encoded data removed]",
      "text/plain": [
       "<Figure size 640x480 with 1 Axes>"
      ]
     },
     "metadata": {},
     "output_type": "display_data"
    }
   ],
   "source": [
    "plt.imshow(x_train[0])"
   ]
  },
  {
   "cell_type": "code",
   "execution_count": 11,
   "metadata": {
    "colab": {
     "base_uri": "https://localhost:8080/"
    },
    "id": "lQYz26kFqEzW",
    "outputId": "e93cf4d6-d0e2-4e51-f3e1-8556aa814f31"
   },
   "outputs": [
    {
     "name": "stdout",
     "output_type": "stream",
     "text": [
      "9\n"
     ]
    }
   ],
   "source": [
    "print(y_train[0])"
   ]
  },
  {
   "cell_type": "code",
   "execution_count": 12,
   "metadata": {
    "colab": {
     "base_uri": "https://localhost:8080/"
    },
    "id": "uShvFxoYqQ19",
    "outputId": "125a217b-0344-4013-a61a-e05004c01b40"
   },
   "outputs": [
    {
     "data": {
      "text/plain": [
       "{0, 1, 2, 3, 4, 5, 6, 7, 8, 9}"
      ]
     },
     "execution_count": 12,
     "metadata": {},
     "output_type": "execute_result"
    }
   ],
   "source": [
    "set(y_train)"
   ]
  },
  {
   "cell_type": "code",
   "execution_count": 13,
   "metadata": {
    "id": "t3JVgzrWq9U2"
   },
   "outputs": [],
   "source": [
    "x_train = x_train.astype(float) /255.0\n",
    "x_test = x_test.astype(float) /255.0"
   ]
  },
  {
   "cell_type": "code",
   "execution_count": 15,
   "metadata": {
    "id": "m7vSzr-zrRce"
   },
   "outputs": [],
   "source": [
    "from tensorflow.keras.utils import to_categorical\n",
    "y_train = to_categorical(y_train)\n",
    "y_test = to_categorical(y_test)"
   ]
  },
  {
   "cell_type": "code",
   "execution_count": 16,
   "metadata": {
    "colab": {
     "base_uri": "https://localhost:8080/"
    },
    "id": "Wu-CT_yarZoW",
    "outputId": "5bb61254-0231-48fa-d7f3-5ecd40a3bab5"
   },
   "outputs": [
    {
     "data": {
      "text/plain": [
       "array([0., 0., 0., 0., 0., 0., 0., 0., 0., 1.], dtype=float32)"
      ]
     },
     "execution_count": 16,
     "metadata": {},
     "output_type": "execute_result"
    }
   ],
   "source": [
    "y_train[0]"
   ]
  },
  {
   "cell_type": "code",
   "execution_count": 19,
   "metadata": {
    "id": "sA5xDSrVruXG"
   },
   "outputs": [],
   "source": [
    "from tensorflow.keras.models import Sequential\n",
    "from tensorflow.keras.layers import InputLayer ,Conv2D, MaxPooling2D, Flatten, Dense"
   ]
  },
  {
   "cell_type": "code",
   "execution_count": 24,
   "metadata": {
    "id": "xD7o8HsHsMK-"
   },
   "outputs": [],
   "source": [
    "model = Sequential()\n",
    "model.add(InputLayer(input_shape=(28,28,1)))\n",
    "model.add(Conv2D(filters=10,kernel_size=3,strides=(1,1),padding='valid',activation='relu'))\n",
    "model.add(MaxPooling2D(pool_size=(2,2)))\n",
    "model.add(Conv2D(filters=10,kernel_size=3,strides=(1,1),padding='valid',activation='relu'))\n",
    "model.add(MaxPooling2D(pool_size=(2,2)))\n",
    "model.add(Conv2D(filters=10,kernel_size=3,strides=(1,1),padding='valid',activation='relu'))\n",
    "model.add(MaxPooling2D(pool_size=(2,2)))\n",
    "model.add(Flatten())\n",
    "model.add(Dense(64,activation='relu'))\n",
    "model.add(Dense(32,activation='relu'))\n",
    "model.add(Dense(10,activation='sigmoid'))"
   ]
  },
  {
   "cell_type": "code",
   "execution_count": 25,
   "metadata": {
    "colab": {
     "base_uri": "https://localhost:8080/"
    },
    "id": "mazUVXLqugBo",
    "outputId": "5eeb5117-24f8-4417-de53-3a55026eca7b"
   },
   "outputs": [
    {
     "name": "stdout",
     "output_type": "stream",
     "text": [
      "Model: \"sequential_4\"\n",
      "_________________________________________________________________\n",
      " Layer (type)                Output Shape              Param #   \n",
      "=================================================================\n",
      " conv2d_4 (Conv2D)           (None, 26, 26, 10)        100       \n",
      "                                                                 \n",
      " max_pooling2d_3 (MaxPoolin  (None, 13, 13, 10)        0         \n",
      " g2D)                                                            \n",
      "                                                                 \n",
      " conv2d_5 (Conv2D)           (None, 11, 11, 10)        910       \n",
      "                                                                 \n",
      " max_pooling2d_4 (MaxPoolin  (None, 5, 5, 10)          0         \n",
      " g2D)                                                            \n",
      "                                                                 \n",
      " conv2d_6 (Conv2D)           (None, 3, 3, 10)          910       \n",
      "                                                                 \n",
      " max_pooling2d_5 (MaxPoolin  (None, 1, 1, 10)          0         \n",
      " g2D)                                                            \n",
      "                                                                 \n",
      " flatten (Flatten)           (None, 10)                0         \n",
      "                                                                 \n",
      " dense (Dense)               (None, 64)                704       \n",
      "                                                                 \n",
      " dense_1 (Dense)             (None, 32)                2080      \n",
      "                                                                 \n",
      " dense_2 (Dense)             (None, 10)                330       \n",
      "                                                                 \n",
      "=================================================================\n",
      "Total params: 5034 (19.66 KB)\n",
      "Trainable params: 5034 (19.66 KB)\n",
      "Non-trainable params: 0 (0.00 Byte)\n",
      "_________________________________________________________________\n"
     ]
    }
   ],
   "source": [
    "model.summary()"
   ]
  },
  {
   "cell_type": "code",
   "execution_count": 26,
   "metadata": {
    "id": "iAxKRLtGu_6e"
   },
   "outputs": [],
   "source": [
    "import tensorflow\n",
    "model.compile(optimizer='adam',loss=tensorflow.keras.losses.categorical_crossentropy,metrics=['acc'])"
   ]
  },
  {
   "cell_type": "code",
   "execution_count": 27,
   "metadata": {
    "colab": {
     "base_uri": "https://localhost:8080/"
    },
    "id": "RwRR00qcvkwe",
    "outputId": "c00080da-4bac-4b93-ebaf-084aedf2bbe3"
   },
   "outputs": [
    {
     "name": "stdout",
     "output_type": "stream",
     "text": [
      "(60000, 28, 28, 1)\n",
      "(10000, 28, 28, 1)\n"
     ]
    }
   ],
   "source": [
    "x_train = x_train.reshape((60000,28,28,1))\n",
    "x_test = x_test.reshape((10000,28,28,1))\n",
    "print(x_train.shape)\n",
    "print(x_test.shape)"
   ]
  },
  {
   "cell_type": "code",
   "execution_count": 29,
   "metadata": {
    "colab": {
     "base_uri": "https://localhost:8080/"
    },
    "id": "dtw9Pi9Hv_J2",
    "outputId": "cc58b137-2234-4ae4-bdab-1f31b63accb7"
   },
   "outputs": [
    {
     "name": "stdout",
     "output_type": "stream",
     "text": [
      "Epoch 1/30\n",
      "118/118 [==============================] - 25s 197ms/step - loss: 1.5723 - acc: 0.4627 - val_loss: 0.9035 - val_acc: 0.6687\n",
      "Epoch 2/30\n",
      "118/118 [==============================] - 19s 159ms/step - loss: 0.7799 - acc: 0.7089 - val_loss: 0.7254 - val_acc: 0.7238\n",
      "Epoch 3/30\n",
      "118/118 [==============================] - 21s 182ms/step - loss: 0.6744 - acc: 0.7465 - val_loss: 0.6729 - val_acc: 0.7549\n",
      "Epoch 4/30\n",
      "118/118 [==============================] - 19s 160ms/step - loss: 0.6239 - acc: 0.7665 - val_loss: 0.6231 - val_acc: 0.7688\n",
      "Epoch 5/30\n",
      "118/118 [==============================] - 20s 166ms/step - loss: 0.5937 - acc: 0.7798 - val_loss: 0.6101 - val_acc: 0.7730\n",
      "Epoch 6/30\n",
      "118/118 [==============================] - 22s 185ms/step - loss: 0.5720 - acc: 0.7881 - val_loss: 0.5917 - val_acc: 0.7840\n",
      "Epoch 7/30\n",
      "118/118 [==============================] - 24s 207ms/step - loss: 0.5536 - acc: 0.7965 - val_loss: 0.5746 - val_acc: 0.7877\n",
      "Epoch 8/30\n",
      "118/118 [==============================] - 19s 163ms/step - loss: 0.5398 - acc: 0.8012 - val_loss: 0.5738 - val_acc: 0.7876\n",
      "Epoch 9/30\n",
      "118/118 [==============================] - 18s 156ms/step - loss: 0.5271 - acc: 0.8061 - val_loss: 0.5524 - val_acc: 0.8009\n",
      "Epoch 10/30\n",
      "118/118 [==============================] - 19s 163ms/step - loss: 0.5165 - acc: 0.8103 - val_loss: 0.5499 - val_acc: 0.8025\n",
      "Epoch 11/30\n",
      "118/118 [==============================] - 19s 164ms/step - loss: 0.5067 - acc: 0.8147 - val_loss: 0.5293 - val_acc: 0.8055\n",
      "Epoch 12/30\n",
      "118/118 [==============================] - 18s 152ms/step - loss: 0.4964 - acc: 0.8188 - val_loss: 0.5226 - val_acc: 0.8106\n",
      "Epoch 13/30\n",
      "118/118 [==============================] - 18s 157ms/step - loss: 0.4894 - acc: 0.8211 - val_loss: 0.5204 - val_acc: 0.8134\n",
      "Epoch 14/30\n",
      "118/118 [==============================] - 18s 153ms/step - loss: 0.4820 - acc: 0.8238 - val_loss: 0.5309 - val_acc: 0.8032\n",
      "Epoch 15/30\n",
      "118/118 [==============================] - 19s 157ms/step - loss: 0.4799 - acc: 0.8237 - val_loss: 0.5097 - val_acc: 0.8145\n",
      "Epoch 16/30\n",
      "118/118 [==============================] - 18s 152ms/step - loss: 0.4715 - acc: 0.8262 - val_loss: 0.5061 - val_acc: 0.8176\n",
      "Epoch 17/30\n",
      "118/118 [==============================] - 19s 160ms/step - loss: 0.4661 - acc: 0.8289 - val_loss: 0.4940 - val_acc: 0.8191\n",
      "Epoch 18/30\n",
      "118/118 [==============================] - 18s 149ms/step - loss: 0.4599 - acc: 0.8316 - val_loss: 0.4969 - val_acc: 0.8175\n",
      "Epoch 19/30\n",
      "118/118 [==============================] - 19s 160ms/step - loss: 0.4570 - acc: 0.8322 - val_loss: 0.5078 - val_acc: 0.8137\n",
      "Epoch 20/30\n",
      "118/118 [==============================] - 18s 152ms/step - loss: 0.4549 - acc: 0.8322 - val_loss: 0.4852 - val_acc: 0.8241\n",
      "Epoch 21/30\n",
      "118/118 [==============================] - 19s 160ms/step - loss: 0.4500 - acc: 0.8347 - val_loss: 0.4829 - val_acc: 0.8235\n",
      "Epoch 22/30\n",
      "118/118 [==============================] - 18s 153ms/step - loss: 0.4454 - acc: 0.8363 - val_loss: 0.4786 - val_acc: 0.8277\n",
      "Epoch 23/30\n",
      "118/118 [==============================] - 19s 160ms/step - loss: 0.4431 - acc: 0.8360 - val_loss: 0.4766 - val_acc: 0.8251\n",
      "Epoch 24/30\n",
      "118/118 [==============================] - 18s 149ms/step - loss: 0.4373 - acc: 0.8389 - val_loss: 0.4698 - val_acc: 0.8306\n",
      "Epoch 25/30\n",
      "118/118 [==============================] - 19s 159ms/step - loss: 0.4371 - acc: 0.8394 - val_loss: 0.4693 - val_acc: 0.8297\n",
      "Epoch 26/30\n",
      "118/118 [==============================] - 18s 149ms/step - loss: 0.4345 - acc: 0.8404 - val_loss: 0.4718 - val_acc: 0.8284\n",
      "Epoch 27/30\n",
      "118/118 [==============================] - 18s 156ms/step - loss: 0.4324 - acc: 0.8407 - val_loss: 0.4677 - val_acc: 0.8313\n",
      "Epoch 28/30\n",
      "118/118 [==============================] - 18s 152ms/step - loss: 0.4295 - acc: 0.8421 - val_loss: 0.4599 - val_acc: 0.8326\n",
      "Epoch 29/30\n",
      "118/118 [==============================] - 19s 160ms/step - loss: 0.4248 - acc: 0.8435 - val_loss: 0.4566 - val_acc: 0.8356\n",
      "Epoch 30/30\n",
      "118/118 [==============================] - 18s 152ms/step - loss: 0.4235 - acc: 0.8440 - val_loss: 0.4563 - val_acc: 0.8334\n"
     ]
    }
   ],
   "source": [
    "history = model.fit(x_train,y_train,epochs=30,batch_size=512,validation_data=(x_test,y_test))"
   ]
  },
  {
   "cell_type": "code",
   "execution_count": 30,
   "metadata": {
    "colab": {
     "base_uri": "https://localhost:8080/"
    },
    "id": "z3M0LXIrwTlt",
    "outputId": "16a73360-482e-4392-eaf8-c6d321527a07"
   },
   "outputs": [
    {
     "data": {
      "text/plain": [
       "dict_keys(['loss', 'acc', 'val_loss', 'val_acc'])"
      ]
     },
     "execution_count": 30,
     "metadata": {},
     "output_type": "execute_result"
    }
   ],
   "source": [
    "history.history.keys()"
   ]
  },
  {
   "cell_type": "code",
   "execution_count": 31,
   "metadata": {
    "colab": {
     "base_uri": "https://localhost:8080/",
     "height": 472
    },
    "id": "2F3uuQ_-xEHG",
    "outputId": "a7dda026-2966-453f-a209-b739782cab72"
   },
   "outputs": [
    {
     "data": {
      "image/png": "[encoded data removed]",
      "text/plain": [
       "<Figure size 640x480 with 1 Axes>"
      ]
     },
     "metadata": {},
     "output_type": "display_data"
    }
   ],
   "source": [
    "import matplotlib.pyplot as plt\n",
    "\n",
    "plt.plot(history.history['acc'])\n",
    "plt.plot(history.history['val_acc'])\n",
    "plt.title('model accuracy')\n",
    "plt.ylabel('accuracy')\n",
    "plt.xlabel('epoch')\n",
    "plt.legend(['train'], loc='upper left')\n",
    "plt.show()"
   ]
  },
  {
   "cell_type": "code",
   "execution_count": null,
   "metadata": {
    "id": "tWxzYXary_g4"
   },
   "outputs": [],
   "source": []
  }
 ],
 "metadata": {
  "colab": {
   "provenance": []
  },
  "kernelspec": {
   "display_name": "Python 3 (ipykernel)",
   "language": "python",
   "name": "python3"
  },
  "language_info": {
   "codemirror_mode": {
    "name": "ipython",
    "version": 3
   },
   "file_extension": ".py",
   "mimetype": "text/x-python",
   "name": "python",
   "nbconvert_exporter": "python",
   "pygments_lexer": "ipython3",
   "version": "3.9.12"
  }
 },
 "nbformat": 4,
 "nbformat_minor": 1
}
