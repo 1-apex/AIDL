{
 "cells": [
  {
   "cell_type": "code",
   "execution_count": 2,
   "id": "435eddd8",
   "metadata": {},
   "outputs": [],
   "source": [
    "import tensorflow as tf\n",
    "from tensorflow import keras\n",
    "from keras.datasets import boston_housing\n",
    "from sklearn import preprocessing"
   ]
  },
  {
   "cell_type": "code",
   "execution_count": 3,
   "id": "231a2b3e",
   "metadata": {},
   "outputs": [],
   "source": [
    "(train_x, train_y), (test_x, test_y) = boston_housing.load_data()"
   ]
  },
  {
   "cell_type": "code",
   "execution_count": 4,
   "id": "829a6ae3",
   "metadata": {},
   "outputs": [
    {
     "name": "stdout",
     "output_type": "stream",
     "text": [
      "Train shape :  (404, 13)\n",
      "Test shape :  (102, 13)\n",
      "Actual Train shape :  (404,)\n",
      "Actual Test shape :  (102,)\n"
     ]
    }
   ],
   "source": [
    "print(\"Train shape : \", train_x.shape)\n",
    "print(\"Test shape : \", test_x.shape)\n",
    "print(\"Actual Train shape : \", train_y.shape)\n",
    "print(\"Actual Test shape : \", test_y.shape)"
   ]
  },
  {
   "cell_type": "code",
   "execution_count": 5,
   "id": "98f815d5",
   "metadata": {},
   "outputs": [
    {
     "data": {
      "text/plain": [
       "array([  1.23247,   0.     ,   8.14   ,   0.     ,   0.538  ,   6.142  ,\n",
       "        91.7    ,   3.9769 ,   4.     , 307.     ,  21.     , 396.9    ,\n",
       "        18.72   ])"
      ]
     },
     "execution_count": 5,
     "metadata": {},
     "output_type": "execute_result"
    }
   ],
   "source": [
    "train_x[0]"
   ]
  },
  {
   "cell_type": "code",
   "execution_count": 6,
   "id": "65a7a019",
   "metadata": {},
   "outputs": [],
   "source": [
    "train_x = preprocessing.normalize(train_x)\n",
    "test_x = preprocessing.normalize(test_x)"
   ]
  },
  {
   "cell_type": "code",
   "execution_count": 7,
   "id": "07aa2089",
   "metadata": {},
   "outputs": [
    {
     "data": {
      "text/plain": [
       "array([0.0024119 , 0.        , 0.01592969, 0.        , 0.00105285,\n",
       "       0.01201967, 0.17945359, 0.00778265, 0.00782786, 0.6007879 ,\n",
       "       0.04109624, 0.77671895, 0.03663436])"
      ]
     },
     "execution_count": 7,
     "metadata": {},
     "output_type": "execute_result"
    }
   ],
   "source": [
    "train_x[0]"
   ]
  },
  {
   "cell_type": "code",
   "execution_count": 8,
   "id": "ec80aa70",
   "metadata": {},
   "outputs": [
    {
     "data": {
      "text/plain": [
       "15.2"
      ]
     },
     "execution_count": 8,
     "metadata": {},
     "output_type": "execute_result"
    }
   ],
   "source": [
    "train_y[0]"
   ]
  },
  {
   "cell_type": "code",
   "execution_count": 9,
   "id": "339dcdb6",
   "metadata": {},
   "outputs": [],
   "source": [
    "from keras.models import Sequential\n",
    "from keras.layers import *"
   ]
  },
  {
   "cell_type": "code",
   "execution_count": 10,
   "id": "5077ad5d",
   "metadata": {},
   "outputs": [],
   "source": [
    "model = Sequential()\n",
    "model.add(Dense(128, activation='relu', input_shape=(train_x[0].shape)))\n",
    "model.add(Dense(64, activation='relu'))\n",
    "model.add(Dense(32, activation='relu'))\n",
    "model.add(Dense(1))\n",
    "model.compile(optimizer='rmsprop', loss='mse', metrics=['accuracy', 'mae'])"
   ]
  },
  {
   "cell_type": "code",
   "execution_count": 11,
   "id": "768153d6",
   "metadata": {},
   "outputs": [
    {
     "name": "stdout",
     "output_type": "stream",
     "text": [
      "Epoch 1/100\n",
      "404/404 [==============================] - 1s 1ms/step - loss: 112.0092 - accuracy: 0.0000e+00 - mae: 7.6954 - val_loss: 74.6899 - val_accuracy: 0.0000e+00 - val_mae: 6.7703\n",
      "Epoch 2/100\n",
      "404/404 [==============================] - 0s 869us/step - loss: 68.4382 - accuracy: 0.0000e+00 - mae: 5.7802 - val_loss: 59.6726 - val_accuracy: 0.0000e+00 - val_mae: 5.7426\n",
      "Epoch 3/100\n",
      "404/404 [==============================] - 0s 905us/step - loss: 63.7402 - accuracy: 0.0000e+00 - mae: 5.5584 - val_loss: 59.6434 - val_accuracy: 0.0000e+00 - val_mae: 5.5391\n",
      "Epoch 4/100\n",
      "404/404 [==============================] - 0s 995us/step - loss: 60.5483 - accuracy: 0.0000e+00 - mae: 5.3970 - val_loss: 55.9206 - val_accuracy: 0.0000e+00 - val_mae: 5.4187\n",
      "Epoch 5/100\n",
      "404/404 [==============================] - 0s 1ms/step - loss: 56.7359 - accuracy: 0.0000e+00 - mae: 5.1866 - val_loss: 53.3186 - val_accuracy: 0.0000e+00 - val_mae: 5.4039\n",
      "Epoch 6/100\n",
      "404/404 [==============================] - 0s 943us/step - loss: 55.8690 - accuracy: 0.0000e+00 - mae: 5.1213 - val_loss: 54.2209 - val_accuracy: 0.0000e+00 - val_mae: 5.2677\n",
      "Epoch 7/100\n",
      "404/404 [==============================] - 0s 907us/step - loss: 55.1374 - accuracy: 0.0000e+00 - mae: 5.0027 - val_loss: 54.8476 - val_accuracy: 0.0000e+00 - val_mae: 5.2371\n",
      "Epoch 8/100\n",
      "404/404 [==============================] - 0s 1ms/step - loss: 52.6449 - accuracy: 0.0000e+00 - mae: 5.0261 - val_loss: 61.9315 - val_accuracy: 0.0000e+00 - val_mae: 5.5184\n",
      "Epoch 9/100\n",
      "404/404 [==============================] - 0s 1ms/step - loss: 52.6626 - accuracy: 0.0000e+00 - mae: 4.9008 - val_loss: 49.9336 - val_accuracy: 0.0000e+00 - val_mae: 4.9735\n",
      "Epoch 10/100\n",
      "404/404 [==============================] - 0s 959us/step - loss: 50.0374 - accuracy: 0.0000e+00 - mae: 4.7814 - val_loss: 47.8238 - val_accuracy: 0.0000e+00 - val_mae: 4.8480\n",
      "Epoch 11/100\n",
      "404/404 [==============================] - 0s 891us/step - loss: 48.4609 - accuracy: 0.0000e+00 - mae: 4.7355 - val_loss: 45.3599 - val_accuracy: 0.0000e+00 - val_mae: 4.7285\n",
      "Epoch 12/100\n",
      "404/404 [==============================] - 0s 816us/step - loss: 46.3960 - accuracy: 0.0000e+00 - mae: 4.5373 - val_loss: 43.7311 - val_accuracy: 0.0000e+00 - val_mae: 4.6109\n",
      "Epoch 13/100\n",
      "404/404 [==============================] - 0s 1ms/step - loss: 44.7801 - accuracy: 0.0000e+00 - mae: 4.6550 - val_loss: 48.2971 - val_accuracy: 0.0000e+00 - val_mae: 5.4625\n",
      "Epoch 14/100\n",
      "404/404 [==============================] - 0s 1ms/step - loss: 43.1601 - accuracy: 0.0000e+00 - mae: 4.5410 - val_loss: 65.1196 - val_accuracy: 0.0000e+00 - val_mae: 5.8482\n",
      "Epoch 15/100\n",
      "404/404 [==============================] - 0s 1ms/step - loss: 42.5199 - accuracy: 0.0000e+00 - mae: 4.4801 - val_loss: 40.9327 - val_accuracy: 0.0000e+00 - val_mae: 4.8250\n",
      "Epoch 16/100\n",
      "404/404 [==============================] - 0s 950us/step - loss: 40.7084 - accuracy: 0.0000e+00 - mae: 4.3522 - val_loss: 37.0506 - val_accuracy: 0.0000e+00 - val_mae: 4.2147\n",
      "Epoch 17/100\n",
      "404/404 [==============================] - 0s 901us/step - loss: 39.4060 - accuracy: 0.0000e+00 - mae: 4.3407 - val_loss: 36.2177 - val_accuracy: 0.0000e+00 - val_mae: 4.2732\n",
      "Epoch 18/100\n",
      "404/404 [==============================] - 0s 986us/step - loss: 38.3132 - accuracy: 0.0000e+00 - mae: 4.2958 - val_loss: 42.6138 - val_accuracy: 0.0000e+00 - val_mae: 4.4625\n",
      "Epoch 19/100\n",
      "404/404 [==============================] - 0s 940us/step - loss: 36.4961 - accuracy: 0.0000e+00 - mae: 4.2529 - val_loss: 34.1116 - val_accuracy: 0.0000e+00 - val_mae: 4.0502\n",
      "Epoch 20/100\n",
      "404/404 [==============================] - 0s 949us/step - loss: 37.2837 - accuracy: 0.0000e+00 - mae: 4.3223 - val_loss: 33.8093 - val_accuracy: 0.0000e+00 - val_mae: 4.0427\n",
      "Epoch 21/100\n",
      "404/404 [==============================] - 0s 1ms/step - loss: 34.6403 - accuracy: 0.0000e+00 - mae: 4.2017 - val_loss: 33.5519 - val_accuracy: 0.0000e+00 - val_mae: 4.2723\n",
      "Epoch 22/100\n",
      "404/404 [==============================] - 0s 930us/step - loss: 35.0328 - accuracy: 0.0000e+00 - mae: 4.2039 - val_loss: 32.5485 - val_accuracy: 0.0000e+00 - val_mae: 3.9683\n",
      "Epoch 23/100\n",
      "404/404 [==============================] - 0s 987us/step - loss: 34.7699 - accuracy: 0.0000e+00 - mae: 4.1045 - val_loss: 31.6145 - val_accuracy: 0.0000e+00 - val_mae: 3.8966\n",
      "Epoch 24/100\n",
      "404/404 [==============================] - 0s 1ms/step - loss: 33.8901 - accuracy: 0.0000e+00 - mae: 4.0874 - val_loss: 30.2474 - val_accuracy: 0.0000e+00 - val_mae: 4.0119\n",
      "Epoch 25/100\n",
      "404/404 [==============================] - 0s 987us/step - loss: 32.2808 - accuracy: 0.0000e+00 - mae: 4.1052 - val_loss: 33.3037 - val_accuracy: 0.0000e+00 - val_mae: 3.9833\n",
      "Epoch 26/100\n",
      "404/404 [==============================] - 0s 1ms/step - loss: 32.4953 - accuracy: 0.0000e+00 - mae: 3.9734 - val_loss: 32.8256 - val_accuracy: 0.0000e+00 - val_mae: 4.5239\n",
      "Epoch 27/100\n",
      "404/404 [==============================] - 0s 916us/step - loss: 29.8018 - accuracy: 0.0000e+00 - mae: 3.8966 - val_loss: 39.7156 - val_accuracy: 0.0000e+00 - val_mae: 4.3708\n",
      "Epoch 28/100\n",
      "404/404 [==============================] - 0s 956us/step - loss: 30.3593 - accuracy: 0.0000e+00 - mae: 3.8733 - val_loss: 34.4278 - val_accuracy: 0.0000e+00 - val_mae: 4.7957\n",
      "Epoch 29/100\n",
      "404/404 [==============================] - 0s 1ms/step - loss: 29.1653 - accuracy: 0.0000e+00 - mae: 3.8524 - val_loss: 32.7808 - val_accuracy: 0.0000e+00 - val_mae: 3.9536\n",
      "Epoch 30/100\n",
      "404/404 [==============================] - 0s 1ms/step - loss: 29.3178 - accuracy: 0.0000e+00 - mae: 3.7767 - val_loss: 35.1497 - val_accuracy: 0.0000e+00 - val_mae: 4.0993\n",
      "Epoch 31/100\n",
      "404/404 [==============================] - 0s 1ms/step - loss: 28.2870 - accuracy: 0.0000e+00 - mae: 3.7548 - val_loss: 29.8880 - val_accuracy: 0.0000e+00 - val_mae: 3.7856\n",
      "Epoch 32/100\n",
      "404/404 [==============================] - 0s 857us/step - loss: 27.5886 - accuracy: 0.0000e+00 - mae: 3.6408 - val_loss: 27.0344 - val_accuracy: 0.0000e+00 - val_mae: 4.0033\n",
      "Epoch 33/100\n",
      "404/404 [==============================] - 0s 853us/step - loss: 25.9288 - accuracy: 0.0000e+00 - mae: 3.6580 - val_loss: 27.1722 - val_accuracy: 0.0000e+00 - val_mae: 3.6635\n",
      "Epoch 34/100\n",
      "404/404 [==============================] - 0s 920us/step - loss: 25.1884 - accuracy: 0.0000e+00 - mae: 3.6530 - val_loss: 29.7480 - val_accuracy: 0.0000e+00 - val_mae: 3.8617\n",
      "Epoch 35/100\n",
      "404/404 [==============================] - 0s 928us/step - loss: 24.5377 - accuracy: 0.0000e+00 - mae: 3.5489 - val_loss: 26.6523 - val_accuracy: 0.0000e+00 - val_mae: 3.7044\n",
      "Epoch 36/100\n",
      "404/404 [==============================] - 0s 1ms/step - loss: 24.2127 - accuracy: 0.0000e+00 - mae: 3.6105 - val_loss: 39.1951 - val_accuracy: 0.0000e+00 - val_mae: 4.3697\n",
      "Epoch 37/100\n",
      "404/404 [==============================] - 0s 1ms/step - loss: 24.1771 - accuracy: 0.0000e+00 - mae: 3.5400 - val_loss: 26.1136 - val_accuracy: 0.0000e+00 - val_mae: 3.7815\n",
      "Epoch 38/100\n",
      "404/404 [==============================] - 0s 849us/step - loss: 22.8539 - accuracy: 0.0000e+00 - mae: 3.4710 - val_loss: 26.4823 - val_accuracy: 0.0000e+00 - val_mae: 3.6411\n",
      "Epoch 39/100\n",
      "404/404 [==============================] - 0s 956us/step - loss: 23.0285 - accuracy: 0.0000e+00 - mae: 3.4594 - val_loss: 26.2756 - val_accuracy: 0.0000e+00 - val_mae: 3.6119\n",
      "Epoch 40/100\n",
      "404/404 [==============================] - 0s 914us/step - loss: 22.2858 - accuracy: 0.0000e+00 - mae: 3.4265 - val_loss: 24.4117 - val_accuracy: 0.0000e+00 - val_mae: 3.5214\n",
      "Epoch 41/100\n",
      "404/404 [==============================] - 0s 1ms/step - loss: 22.0898 - accuracy: 0.0000e+00 - mae: 3.3122 - val_loss: 26.1407 - val_accuracy: 0.0000e+00 - val_mae: 3.9186\n",
      "Epoch 42/100\n",
      "404/404 [==============================] - 1s 2ms/step - loss: 22.4991 - accuracy: 0.0000e+00 - mae: 3.3213 - val_loss: 25.9590 - val_accuracy: 0.0000e+00 - val_mae: 3.8783\n",
      "Epoch 43/100\n",
      "404/404 [==============================] - 0s 1ms/step - loss: 20.5570 - accuracy: 0.0000e+00 - mae: 3.2521 - val_loss: 27.7959 - val_accuracy: 0.0000e+00 - val_mae: 4.0673\n",
      "Epoch 44/100\n",
      "404/404 [==============================] - 0s 1ms/step - loss: 21.5084 - accuracy: 0.0000e+00 - mae: 3.2063 - val_loss: 27.3741 - val_accuracy: 0.0000e+00 - val_mae: 3.9540\n"
     ]
    },
    {
     "name": "stdout",
     "output_type": "stream",
     "text": [
      "Epoch 45/100\n",
      "404/404 [==============================] - 0s 913us/step - loss: 20.3941 - accuracy: 0.0000e+00 - mae: 3.2474 - val_loss: 27.7859 - val_accuracy: 0.0000e+00 - val_mae: 3.7417\n",
      "Epoch 46/100\n",
      "404/404 [==============================] - 0s 891us/step - loss: 20.1113 - accuracy: 0.0000e+00 - mae: 3.2957 - val_loss: 26.7433 - val_accuracy: 0.0000e+00 - val_mae: 3.6749\n",
      "Epoch 47/100\n",
      "404/404 [==============================] - 0s 889us/step - loss: 21.0561 - accuracy: 0.0000e+00 - mae: 3.3530 - val_loss: 25.2766 - val_accuracy: 0.0000e+00 - val_mae: 3.5543\n",
      "Epoch 48/100\n",
      "404/404 [==============================] - 0s 913us/step - loss: 20.2612 - accuracy: 0.0000e+00 - mae: 3.2632 - val_loss: 41.3087 - val_accuracy: 0.0000e+00 - val_mae: 4.6042\n",
      "Epoch 49/100\n",
      "404/404 [==============================] - 0s 1ms/step - loss: 20.0463 - accuracy: 0.0000e+00 - mae: 3.2077 - val_loss: 28.8253 - val_accuracy: 0.0000e+00 - val_mae: 3.7678\n",
      "Epoch 50/100\n",
      "404/404 [==============================] - 0s 1ms/step - loss: 19.1199 - accuracy: 0.0000e+00 - mae: 3.0894 - val_loss: 30.8994 - val_accuracy: 0.0000e+00 - val_mae: 3.8813\n",
      "Epoch 51/100\n",
      "404/404 [==============================] - 0s 933us/step - loss: 19.5534 - accuracy: 0.0000e+00 - mae: 3.1523 - val_loss: 26.3055 - val_accuracy: 0.0000e+00 - val_mae: 3.5940\n",
      "Epoch 52/100\n",
      "404/404 [==============================] - 0s 1ms/step - loss: 19.0577 - accuracy: 0.0000e+00 - mae: 3.1040 - val_loss: 29.7194 - val_accuracy: 0.0000e+00 - val_mae: 3.8564\n",
      "Epoch 53/100\n",
      "404/404 [==============================] - 0s 995us/step - loss: 18.9368 - accuracy: 0.0000e+00 - mae: 3.1019 - val_loss: 31.3905 - val_accuracy: 0.0000e+00 - val_mae: 3.8656\n",
      "Epoch 54/100\n",
      "404/404 [==============================] - 0s 1ms/step - loss: 19.0190 - accuracy: 0.0000e+00 - mae: 3.0761 - val_loss: 28.8766 - val_accuracy: 0.0000e+00 - val_mae: 3.8599\n",
      "Epoch 55/100\n",
      "404/404 [==============================] - 0s 1ms/step - loss: 17.9237 - accuracy: 0.0000e+00 - mae: 3.0777 - val_loss: 31.8855 - val_accuracy: 0.0000e+00 - val_mae: 3.9605\n",
      "Epoch 56/100\n",
      "404/404 [==============================] - 1s 1ms/step - loss: 20.1488 - accuracy: 0.0000e+00 - mae: 3.2837 - val_loss: 28.6830 - val_accuracy: 0.0000e+00 - val_mae: 3.7001\n",
      "Epoch 57/100\n",
      "404/404 [==============================] - 0s 1ms/step - loss: 16.9776 - accuracy: 0.0000e+00 - mae: 3.0541 - val_loss: 35.6003 - val_accuracy: 0.0000e+00 - val_mae: 4.5455\n",
      "Epoch 58/100\n",
      "404/404 [==============================] - 0s 966us/step - loss: 17.5412 - accuracy: 0.0000e+00 - mae: 3.0279 - val_loss: 28.6826 - val_accuracy: 0.0000e+00 - val_mae: 3.7705\n",
      "Epoch 59/100\n",
      "404/404 [==============================] - 0s 1ms/step - loss: 19.3399 - accuracy: 0.0000e+00 - mae: 3.1938 - val_loss: 29.2927 - val_accuracy: 0.0000e+00 - val_mae: 3.7764\n",
      "Epoch 60/100\n",
      "404/404 [==============================] - 0s 1ms/step - loss: 18.3826 - accuracy: 0.0000e+00 - mae: 3.0486 - val_loss: 33.0782 - val_accuracy: 0.0000e+00 - val_mae: 3.9997\n",
      "Epoch 61/100\n",
      "404/404 [==============================] - 0s 1ms/step - loss: 18.3213 - accuracy: 0.0000e+00 - mae: 3.0650 - val_loss: 35.8363 - val_accuracy: 0.0000e+00 - val_mae: 4.3837\n",
      "Epoch 62/100\n",
      "404/404 [==============================] - 0s 1ms/step - loss: 18.5518 - accuracy: 0.0000e+00 - mae: 3.0471 - val_loss: 33.8681 - val_accuracy: 0.0000e+00 - val_mae: 4.0015\n",
      "Epoch 63/100\n",
      "404/404 [==============================] - 1s 1ms/step - loss: 17.2859 - accuracy: 0.0000e+00 - mae: 3.0228 - val_loss: 33.6236 - val_accuracy: 0.0000e+00 - val_mae: 4.0381\n",
      "Epoch 64/100\n",
      "404/404 [==============================] - 1s 2ms/step - loss: 17.9950 - accuracy: 0.0000e+00 - mae: 3.0967 - val_loss: 30.2493 - val_accuracy: 0.0000e+00 - val_mae: 3.7951\n",
      "Epoch 65/100\n",
      "404/404 [==============================] - 1s 1ms/step - loss: 17.4091 - accuracy: 0.0000e+00 - mae: 2.9805 - val_loss: 31.3086 - val_accuracy: 0.0000e+00 - val_mae: 3.8292\n",
      "Epoch 66/100\n",
      "404/404 [==============================] - 0s 1ms/step - loss: 18.7410 - accuracy: 0.0000e+00 - mae: 3.0659 - val_loss: 31.1065 - val_accuracy: 0.0000e+00 - val_mae: 3.8150\n",
      "Epoch 67/100\n",
      "404/404 [==============================] - 0s 1ms/step - loss: 18.4433 - accuracy: 0.0000e+00 - mae: 3.0570 - val_loss: 30.4760 - val_accuracy: 0.0000e+00 - val_mae: 3.6903\n",
      "Epoch 68/100\n",
      "404/404 [==============================] - 0s 1ms/step - loss: 19.0754 - accuracy: 0.0000e+00 - mae: 3.0436 - val_loss: 28.1807 - val_accuracy: 0.0000e+00 - val_mae: 3.5678\n",
      "Epoch 69/100\n",
      "404/404 [==============================] - 0s 1ms/step - loss: 18.5485 - accuracy: 0.0000e+00 - mae: 3.0004 - val_loss: 28.9159 - val_accuracy: 0.0000e+00 - val_mae: 3.6133\n",
      "Epoch 70/100\n",
      "404/404 [==============================] - 0s 1ms/step - loss: 17.3773 - accuracy: 0.0000e+00 - mae: 3.0231 - val_loss: 28.0135 - val_accuracy: 0.0000e+00 - val_mae: 3.6928\n",
      "Epoch 71/100\n",
      "404/404 [==============================] - 0s 947us/step - loss: 17.5941 - accuracy: 0.0000e+00 - mae: 2.9509 - val_loss: 29.2850 - val_accuracy: 0.0000e+00 - val_mae: 3.7240\n",
      "Epoch 72/100\n",
      "404/404 [==============================] - 0s 1ms/step - loss: 16.9429 - accuracy: 0.0000e+00 - mae: 2.9043 - val_loss: 30.0611 - val_accuracy: 0.0000e+00 - val_mae: 3.9583\n",
      "Epoch 73/100\n",
      "404/404 [==============================] - 0s 1ms/step - loss: 17.4235 - accuracy: 0.0000e+00 - mae: 3.0212 - val_loss: 29.8889 - val_accuracy: 0.0000e+00 - val_mae: 3.6807\n",
      "Epoch 74/100\n",
      "404/404 [==============================] - 0s 1ms/step - loss: 16.3899 - accuracy: 0.0000e+00 - mae: 2.9415 - val_loss: 31.7308 - val_accuracy: 0.0000e+00 - val_mae: 3.7680\n",
      "Epoch 75/100\n",
      "404/404 [==============================] - 0s 1ms/step - loss: 16.4718 - accuracy: 0.0000e+00 - mae: 2.8898 - val_loss: 33.7647 - val_accuracy: 0.0000e+00 - val_mae: 4.4376\n",
      "Epoch 76/100\n",
      "404/404 [==============================] - 0s 1ms/step - loss: 17.6543 - accuracy: 0.0000e+00 - mae: 3.0269 - val_loss: 27.2088 - val_accuracy: 0.0000e+00 - val_mae: 3.5466\n",
      "Epoch 77/100\n",
      "404/404 [==============================] - 0s 1ms/step - loss: 17.7666 - accuracy: 0.0000e+00 - mae: 2.9736 - val_loss: 32.2336 - val_accuracy: 0.0000e+00 - val_mae: 3.9185\n",
      "Epoch 78/100\n",
      "404/404 [==============================] - 0s 1ms/step - loss: 17.0007 - accuracy: 0.0000e+00 - mae: 2.9361 - val_loss: 30.6534 - val_accuracy: 0.0000e+00 - val_mae: 3.8468\n",
      "Epoch 79/100\n",
      "404/404 [==============================] - 0s 1ms/step - loss: 19.1569 - accuracy: 0.0000e+00 - mae: 3.1143 - val_loss: 30.6508 - val_accuracy: 0.0000e+00 - val_mae: 3.9286\n",
      "Epoch 80/100\n",
      "404/404 [==============================] - 0s 1ms/step - loss: 17.4361 - accuracy: 0.0000e+00 - mae: 2.9792 - val_loss: 32.0699 - val_accuracy: 0.0000e+00 - val_mae: 3.7925\n",
      "Epoch 81/100\n",
      "404/404 [==============================] - 0s 894us/step - loss: 16.1725 - accuracy: 0.0000e+00 - mae: 2.9741 - val_loss: 35.1049 - val_accuracy: 0.0000e+00 - val_mae: 4.0789\n",
      "Epoch 82/100\n",
      "404/404 [==============================] - 0s 1ms/step - loss: 16.9708 - accuracy: 0.0000e+00 - mae: 2.9432 - val_loss: 32.3320 - val_accuracy: 0.0000e+00 - val_mae: 3.8804\n",
      "Epoch 83/100\n",
      "404/404 [==============================] - 0s 1ms/step - loss: 17.1083 - accuracy: 0.0000e+00 - mae: 2.9236 - val_loss: 31.5521 - val_accuracy: 0.0000e+00 - val_mae: 3.8161\n",
      "Epoch 84/100\n",
      "404/404 [==============================] - 0s 1ms/step - loss: 17.1447 - accuracy: 0.0000e+00 - mae: 2.9410 - val_loss: 26.0106 - val_accuracy: 0.0000e+00 - val_mae: 3.5131\n",
      "Epoch 85/100\n",
      "404/404 [==============================] - 0s 990us/step - loss: 16.2555 - accuracy: 0.0000e+00 - mae: 2.8155 - val_loss: 45.2382 - val_accuracy: 0.0000e+00 - val_mae: 4.7851\n",
      "Epoch 86/100\n",
      "404/404 [==============================] - 0s 1ms/step - loss: 17.7715 - accuracy: 0.0000e+00 - mae: 2.9655 - val_loss: 31.6711 - val_accuracy: 0.0000e+00 - val_mae: 4.0484\n",
      "Epoch 87/100\n",
      "404/404 [==============================] - 0s 1ms/step - loss: 17.5260 - accuracy: 0.0000e+00 - mae: 3.0133 - val_loss: 30.4764 - val_accuracy: 0.0000e+00 - val_mae: 3.7398\n",
      "Epoch 88/100\n",
      "404/404 [==============================] - 0s 1ms/step - loss: 16.3384 - accuracy: 0.0000e+00 - mae: 2.9318 - val_loss: 32.6806 - val_accuracy: 0.0000e+00 - val_mae: 3.9481\n"
     ]
    },
    {
     "name": "stdout",
     "output_type": "stream",
     "text": [
      "Epoch 89/100\n",
      "404/404 [==============================] - 0s 1ms/step - loss: 17.0909 - accuracy: 0.0000e+00 - mae: 2.9649 - val_loss: 34.4611 - val_accuracy: 0.0000e+00 - val_mae: 3.9133\n",
      "Epoch 90/100\n",
      "404/404 [==============================] - 0s 981us/step - loss: 16.6481 - accuracy: 0.0000e+00 - mae: 2.9491 - val_loss: 27.4005 - val_accuracy: 0.0000e+00 - val_mae: 3.5433\n",
      "Epoch 91/100\n",
      "404/404 [==============================] - 0s 957us/step - loss: 17.4678 - accuracy: 0.0000e+00 - mae: 2.9724 - val_loss: 32.7270 - val_accuracy: 0.0000e+00 - val_mae: 3.7694\n",
      "Epoch 92/100\n",
      "404/404 [==============================] - 0s 958us/step - loss: 16.6447 - accuracy: 0.0000e+00 - mae: 2.8983 - val_loss: 28.7627 - val_accuracy: 0.0000e+00 - val_mae: 3.6336\n",
      "Epoch 93/100\n",
      "404/404 [==============================] - 0s 1ms/step - loss: 16.2201 - accuracy: 0.0000e+00 - mae: 2.7994 - val_loss: 30.8314 - val_accuracy: 0.0000e+00 - val_mae: 3.6725\n",
      "Epoch 94/100\n",
      "404/404 [==============================] - 0s 1ms/step - loss: 16.3132 - accuracy: 0.0000e+00 - mae: 2.9173 - val_loss: 32.2022 - val_accuracy: 0.0000e+00 - val_mae: 3.7481\n",
      "Epoch 95/100\n",
      "404/404 [==============================] - 0s 1ms/step - loss: 16.2495 - accuracy: 0.0000e+00 - mae: 2.9187 - val_loss: 39.8095 - val_accuracy: 0.0000e+00 - val_mae: 4.3538\n",
      "Epoch 96/100\n",
      "404/404 [==============================] - 0s 1ms/step - loss: 16.3262 - accuracy: 0.0000e+00 - mae: 2.8283 - val_loss: 31.6744 - val_accuracy: 0.0000e+00 - val_mae: 3.7411\n",
      "Epoch 97/100\n",
      "404/404 [==============================] - 0s 1ms/step - loss: 17.0669 - accuracy: 0.0000e+00 - mae: 3.0330 - val_loss: 28.1109 - val_accuracy: 0.0000e+00 - val_mae: 3.4956\n",
      "Epoch 98/100\n",
      "404/404 [==============================] - 0s 1ms/step - loss: 16.0369 - accuracy: 0.0000e+00 - mae: 2.7906 - val_loss: 42.3853 - val_accuracy: 0.0000e+00 - val_mae: 4.6633\n",
      "Epoch 99/100\n",
      "404/404 [==============================] - 0s 1ms/step - loss: 16.5218 - accuracy: 0.0000e+00 - mae: 2.8827 - val_loss: 31.3866 - val_accuracy: 0.0000e+00 - val_mae: 3.6871\n",
      "Epoch 100/100\n",
      "404/404 [==============================] - 0s 1ms/step - loss: 15.8859 - accuracy: 0.0000e+00 - mae: 2.8947 - val_loss: 28.3012 - val_accuracy: 0.0000e+00 - val_mae: 3.5527\n"
     ]
    }
   ],
   "source": [
    "history = model.fit(train_x, train_y, epochs=100, verbose=1, batch_size=1, validation_data = (test_x, test_y))"
   ]
  },
  {
   "cell_type": "code",
   "execution_count": 12,
   "id": "fee20d40",
   "metadata": {},
   "outputs": [
    {
     "name": "stdout",
     "output_type": "stream",
     "text": [
      "Actual Output: 21.1\n",
      "1/1 [==============================] - 0s 96ms/step\n",
      "Predicted Output:  [[22.538143]]\n"
     ]
    }
   ],
   "source": [
    "test_input = [[8.65407330e-05, 0.00000000e+00, 1.13392175e-02, 0.00000000e+00, 1.12518247e-03, 1.31897603e-02, 7.53763011e-02, 1.30768051e-02, 1.09241016e-02, 4.89399752e-01, 4.41333705e-02, 8.67155186e-01, 1.75004108e-02]]\n",
    "print(\"Actual Output: 21.1\")\n",
    "print(\"Predicted Output: \",model.predict(test_input))"
   ]
  },
  {
   "cell_type": "code",
   "execution_count": null,
   "id": "78df5e46",
   "metadata": {},
   "outputs": [],
   "source": []
  }
 ],
 "metadata": {
  "kernelspec": {
   "display_name": "Python 3 (ipykernel)",
   "language": "python",
   "name": "python3"
  },
  "language_info": {
   "codemirror_mode": {
    "name": "ipython",
    "version": 3
   },
   "file_extension": ".py",
   "mimetype": "text/x-python",
   "name": "python",
   "nbconvert_exporter": "python",
   "pygments_lexer": "ipython3",
   "version": "3.9.12"
  }
 },
 "nbformat": 4,
 "nbformat_minor": 5
}
