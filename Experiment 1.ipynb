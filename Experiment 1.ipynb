{
 "cells": [
  {
   "cell_type": "code",
   "execution_count": 1,
   "id": "d3a7763f",
   "metadata": {},
   "outputs": [],
   "source": [
    "import tensorflow as tf"
   ]
  },
  {
   "cell_type": "code",
   "execution_count": 9,
   "id": "a43d2180",
   "metadata": {},
   "outputs": [],
   "source": [
    "tf.config.run_functions_eagerly(True)"
   ]
  },
  {
   "cell_type": "code",
   "execution_count": 33,
   "id": "9dfb2de0",
   "metadata": {},
   "outputs": [],
   "source": [
    "a = tf.Variable(5.5, dtype=tf.float32)\n",
    "b = tf.Variable(3.0, dtype=tf.float32)"
   ]
  },
  {
   "cell_type": "code",
   "execution_count": 34,
   "id": "498dcc7f",
   "metadata": {},
   "outputs": [],
   "source": [
    "# Define the operations\n",
    "addition = a + b\n",
    "multiplication = a * b\n",
    "rounded = tf.round(a)"
   ]
  },
  {
   "cell_type": "code",
   "execution_count": 35,
   "id": "25308c80",
   "metadata": {},
   "outputs": [
    {
     "name": "stdout",
     "output_type": "stream",
     "text": [
      "Addition: 5.5 + 3.0 = 8.5\n",
      "Multiplication: 5.5 * 3.0 = 16.5\n",
      "Rounded Value: 6.0\n"
     ]
    }
   ],
   "source": [
    "print(f\"Addition: {a.numpy()} + {b.numpy()} = {addition.numpy()}\")\n",
    "print(f\"Multiplication: {a.numpy()} * {b.numpy()} = {multiplication.numpy()}\")\n",
    "print(f\"Rounded Value: {rounded.numpy()}\")"
   ]
  },
  {
   "cell_type": "code",
   "execution_count": null,
   "id": "25ee8758",
   "metadata": {},
   "outputs": [],
   "source": []
  }
 ],
 "metadata": {
  "kernelspec": {
   "display_name": "Python 3 (ipykernel)",
   "language": "python",
   "name": "python3"
  },
  "language_info": {
   "codemirror_mode": {
    "name": "ipython",
    "version": 3
   },
   "file_extension": ".py",
   "mimetype": "text/x-python",
   "name": "python",
   "nbconvert_exporter": "python",
   "pygments_lexer": "ipython3",
   "version": "3.9.12"
  }
 },
 "nbformat": 4,
 "nbformat_minor": 5
}
