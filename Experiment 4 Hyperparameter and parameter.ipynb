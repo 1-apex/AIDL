{
 "cells": [
  {
   "cell_type": "code",
   "execution_count": 1,
   "id": "b1a6dc2c",
   "metadata": {},
   "outputs": [],
   "source": [
    "import numpy as np\n",
    "from keras.models import Sequential\n",
    "from keras.layers import Dense\n",
    "from sklearn.model_selection import GridSearchCV\n",
    "from keras.wrappers.scikit_learn import KerasClassifier"
   ]
  },
  {
   "cell_type": "code",
   "execution_count": 2,
   "id": "d345b379",
   "metadata": {},
   "outputs": [],
   "source": [
    "# Generate some dummy data for demonstration\n",
    "\n",
    "np.random.seed(42)\n",
    "X = np.random.rand(100, 5)\n",
    "y = np.random.randint(2, size=(100,))"
   ]
  },
  {
   "cell_type": "code",
   "execution_count": 3,
   "id": "e83e3792",
   "metadata": {},
   "outputs": [],
   "source": [
    "# Function to create a Keras model\n",
    "\n",
    "def create_model(optimizer='adam', activation='relu', neurons=32):\n",
    "    model = Sequential()\n",
    "    model.add(Dense(neurons, input_dim=5, activation=activation))\n",
    "    model.add(Dense(1, activation='sigmoid'))\n",
    "    model.compile(loss='binary_crossentropy', optimizer=optimizer, metrics=['accuracy'])\n",
    "    return model"
   ]
  },
  {
   "cell_type": "code",
   "execution_count": 4,
   "id": "10e10b0f",
   "metadata": {},
   "outputs": [],
   "source": [
    "# Manually set hyperparameter values\n",
    "\n",
    "manual_params = {\n",
    "    'optimizer': 'adam',\n",
    "    'activation': 'relu',\n",
    "    'neurons': 32\n",
    "}"
   ]
  },
  {
   "cell_type": "code",
   "execution_count": 5,
   "id": "1abfba0d",
   "metadata": {},
   "outputs": [
    {
     "name": "stdout",
     "output_type": "stream",
     "text": [
      "Epoch 1/10\n",
      "4/4 [==============================] - 1s 2ms/step - loss: 0.7022 - accuracy: 0.4500\n",
      "Epoch 2/10\n",
      "4/4 [==============================] - 0s 2ms/step - loss: 0.6996 - accuracy: 0.4500\n",
      "Epoch 3/10\n",
      "4/4 [==============================] - 0s 3ms/step - loss: 0.6980 - accuracy: 0.4500\n",
      "Epoch 4/10\n",
      "4/4 [==============================] - 0s 3ms/step - loss: 0.6951 - accuracy: 0.5100\n",
      "Epoch 5/10\n",
      "4/4 [==============================] - 0s 3ms/step - loss: 0.6920 - accuracy: 0.5500\n",
      "Epoch 6/10\n",
      "4/4 [==============================] - 0s 2ms/step - loss: 0.6894 - accuracy: 0.5700\n",
      "Epoch 7/10\n",
      "4/4 [==============================] - 0s 5ms/step - loss: 0.6860 - accuracy: 0.6100\n",
      "Epoch 8/10\n",
      "4/4 [==============================] - 0s 4ms/step - loss: 0.6835 - accuracy: 0.6000\n",
      "Epoch 9/10\n",
      "4/4 [==============================] - 0s 0s/step - loss: 0.6817 - accuracy: 0.6100\n",
      "Epoch 10/10\n",
      "4/4 [==============================] - 0s 2ms/step - loss: 0.6803 - accuracy: 0.6000\n"
     ]
    },
    {
     "data": {
      "text/plain": [
       "<keras.callbacks.History at 0x1d835ea3d60>"
      ]
     },
     "execution_count": 5,
     "metadata": {},
     "output_type": "execute_result"
    }
   ],
   "source": [
    "# Create and train the model with manually set hyperparameters\n",
    "\n",
    "manual_model = create_model(**manual_params)\n",
    "manual_model.fit(X, y, epochs=10, batch_size=32)"
   ]
  },
  {
   "cell_type": "code",
   "execution_count": 6,
   "id": "1beee9fb",
   "metadata": {},
   "outputs": [
    {
     "name": "stdout",
     "output_type": "stream",
     "text": [
      "4/4 [==============================] - 0s 2ms/step - loss: 0.6796 - accuracy: 0.6000\n",
      "Manual Hyperparameter Results - Loss: 0.679599940776825, Accuracy: 0.6000000238418579\n"
     ]
    }
   ],
   "source": [
    "# Display results with manually set hyperparameters\n",
    "\n",
    "manual_loss, manual_accuracy = manual_model.evaluate(X, y)\n",
    "print(f'Manual Hyperparameter Results - Loss: {manual_loss}, Accuracy: {manual_accuracy}')"
   ]
  },
  {
   "cell_type": "markdown",
   "id": "086eb8a5",
   "metadata": {},
   "source": [
    "### Using Grid Search method"
   ]
  },
  {
   "cell_type": "code",
   "execution_count": 7,
   "id": "cbaa2524",
   "metadata": {},
   "outputs": [],
   "source": [
    "# Define a grid to specify the search space for different hyperparameters\n",
    "\n",
    "param_grid = {\n",
    "    'optimizer': ['adam', 'sgd'],\n",
    "    'activation': ['relu', 'tanh'],\n",
    "    'neurons': [16, 32, 64]\n",
    "}"
   ]
  },
  {
   "cell_type": "code",
   "execution_count": 8,
   "id": "dfaeef33",
   "metadata": {},
   "outputs": [
    {
     "name": "stderr",
     "output_type": "stream",
     "text": [
      "C:\\Users\\prath\\AppData\\Local\\Temp\\ipykernel_10740\\2721851352.py:3: DeprecationWarning: KerasClassifier is deprecated, use Sci-Keras (https://github.com/adriangb/scikeras) instead. See https://www.adriangb.com/scikeras/stable/migration.html for help migrating.\n",
      "  keras_classifier = KerasClassifier(build_fn=create_model, epochs=10, batch_size=32, verbose=0)\n"
     ]
    }
   ],
   "source": [
    "# Create KerasClassifier for use in GridSearchCV\n",
    "\n",
    "keras_classifier = KerasClassifier(build_fn=create_model, epochs=10, batch_size=32, verbose=0)"
   ]
  },
  {
   "cell_type": "code",
   "execution_count": 9,
   "id": "d5af1f0c",
   "metadata": {},
   "outputs": [
    {
     "name": "stdout",
     "output_type": "stream",
     "text": [
      "WARNING:tensorflow:5 out of the last 11 calls to <function Model.make_test_function.<locals>.test_function at 0x000001D8361344C0> triggered tf.function retracing. Tracing is expensive and the excessive number of tracings could be due to (1) creating @tf.function repeatedly in a loop, (2) passing tensors with different shapes, (3) passing Python objects instead of tensors. For (1), please define your @tf.function outside of the loop. For (2), @tf.function has reduce_retracing=True option that can avoid unnecessary retracing. For (3), please refer to https://www.tensorflow.org/guide/function#controlling_retracing and https://www.tensorflow.org/api_docs/python/tf/function for  more details.\n",
      "WARNING:tensorflow:6 out of the last 13 calls to <function Model.make_test_function.<locals>.test_function at 0x000001D8385BCE50> triggered tf.function retracing. Tracing is expensive and the excessive number of tracings could be due to (1) creating @tf.function repeatedly in a loop, (2) passing tensors with different shapes, (3) passing Python objects instead of tensors. For (1), please define your @tf.function outside of the loop. For (2), @tf.function has reduce_retracing=True option that can avoid unnecessary retracing. For (3), please refer to https://www.tensorflow.org/guide/function#controlling_retracing and https://www.tensorflow.org/api_docs/python/tf/function for  more details.\n"
     ]
    }
   ],
   "source": [
    "# Perform grid search\n",
    "\n",
    "grid_search = GridSearchCV(estimator=keras_classifier, param_grid=param_grid, cv=3)\n",
    "grid_result = grid_search.fit(X, y)"
   ]
  },
  {
   "cell_type": "code",
   "execution_count": 10,
   "id": "19fc02d9",
   "metadata": {},
   "outputs": [
    {
     "name": "stdout",
     "output_type": "stream",
     "text": [
      "Best Hyperparameters: {'activation': 'relu', 'neurons': 16, 'optimizer': 'sgd'}\n"
     ]
    }
   ],
   "source": [
    "# Display the best set of hyperparameters\n",
    "\n",
    "best_params = grid_result.best_params_\n",
    "print(f'Best Hyperparameters: {best_params}')"
   ]
  },
  {
   "cell_type": "code",
   "execution_count": 11,
   "id": "311588d3",
   "metadata": {},
   "outputs": [
    {
     "name": "stdout",
     "output_type": "stream",
     "text": [
      "Epoch 1/10\n",
      "4/4 [==============================] - 0s 3ms/step - loss: 0.6771 - accuracy: 0.5900\n",
      "Epoch 2/10\n",
      "4/4 [==============================] - 0s 4ms/step - loss: 0.6763 - accuracy: 0.6000\n",
      "Epoch 3/10\n",
      "4/4 [==============================] - 0s 3ms/step - loss: 0.6762 - accuracy: 0.6000\n",
      "Epoch 4/10\n",
      "4/4 [==============================] - 0s 2ms/step - loss: 0.6758 - accuracy: 0.6000\n",
      "Epoch 5/10\n",
      "4/4 [==============================] - 0s 3ms/step - loss: 0.6755 - accuracy: 0.6000\n",
      "Epoch 6/10\n",
      "4/4 [==============================] - 0s 3ms/step - loss: 0.6755 - accuracy: 0.6000\n",
      "Epoch 7/10\n",
      "4/4 [==============================] - 0s 3ms/step - loss: 0.6751 - accuracy: 0.6000\n",
      "Epoch 8/10\n",
      "4/4 [==============================] - 0s 3ms/step - loss: 0.6751 - accuracy: 0.6000\n",
      "Epoch 9/10\n",
      "4/4 [==============================] - 0s 3ms/step - loss: 0.6749 - accuracy: 0.6000\n",
      "Epoch 10/10\n",
      "4/4 [==============================] - 0s 2ms/step - loss: 0.6748 - accuracy: 0.6000\n",
      "4/4 [==============================] - 0s 1ms/step - loss: 0.6747 - accuracy: 0.6000\n",
      "Best Hyperparameter Results - Loss: 0.6747181415557861, Accuracy: 0.6000000238418579\n"
     ]
    }
   ],
   "source": [
    "# Display results with the best set of hyperparameters\n",
    "\n",
    "best_model = create_model(**best_params)\n",
    "best_model.fit(X, y, epochs=10, batch_size=32)\n",
    "best_loss, best_accuracy = best_model.evaluate(X, y)\n",
    "print(f'Best Hyperparameter Results - Loss: {best_loss}, Accuracy: {best_accuracy}')"
   ]
  },
  {
   "cell_type": "code",
   "execution_count": null,
   "id": "0bc7f1c3",
   "metadata": {},
   "outputs": [],
   "source": []
  }
 ],
 "metadata": {
  "kernelspec": {
   "display_name": "Python 3 (ipykernel)",
   "language": "python",
   "name": "python3"
  },
  "language_info": {
   "codemirror_mode": {
    "name": "ipython",
    "version": 3
   },
   "file_extension": ".py",
   "mimetype": "text/x-python",
   "name": "python",
   "nbconvert_exporter": "python",
   "pygments_lexer": "ipython3",
   "version": "3.9.12"
  }
 },
 "nbformat": 4,
 "nbformat_minor": 5
}
